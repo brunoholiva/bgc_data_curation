{
 "cells": [
  {
   "cell_type": "code",
   "execution_count": 1,
   "id": "4805a000",
   "metadata": {},
   "outputs": [],
   "source": [
    "import pandas as pd\n",
    "from rdkit import Chem"
   ]
  },
  {
   "cell_type": "code",
   "execution_count": 2,
   "id": "d84007db",
   "metadata": {},
   "outputs": [],
   "source": [
    "df = pd.read_excel('prism_data.xlsx') #from doi.org/10.1038/s41467-020-19986-1, supplementary data 2"
   ]
  },
  {
   "cell_type": "code",
   "execution_count": 3,
   "id": "80833bc6",
   "metadata": {},
   "outputs": [],
   "source": [
    "df.drop(columns=['Predicted SMILES', 'Tanimoto coefficient', 'Method'], inplace=True)"
   ]
  },
  {
   "cell_type": "code",
   "execution_count": 4,
   "id": "24736e79",
   "metadata": {},
   "outputs": [],
   "source": [
    "df.drop_duplicates(subset=['Cluster'], keep='first', inplace=True)\n",
    "df.reset_index(drop=True, inplace=True)"
   ]
  },
  {
   "cell_type": "code",
   "execution_count": 5,
   "id": "1eff09aa",
   "metadata": {},
   "outputs": [
    {
     "data": {
      "text/html": [
       "<div>\n",
       "<style scoped>\n",
       "    .dataframe tbody tr th:only-of-type {\n",
       "        vertical-align: middle;\n",
       "    }\n",
       "\n",
       "    .dataframe tbody tr th {\n",
       "        vertical-align: top;\n",
       "    }\n",
       "\n",
       "    .dataframe thead th {\n",
       "        text-align: right;\n",
       "    }\n",
       "</style>\n",
       "<table border=\"1\" class=\"dataframe\">\n",
       "  <thead>\n",
       "    <tr style=\"text-align: right;\">\n",
       "      <th></th>\n",
       "      <th>Cluster</th>\n",
       "      <th>True SMILES</th>\n",
       "    </tr>\n",
       "  </thead>\n",
       "  <tbody>\n",
       "    <tr>\n",
       "      <th>0</th>\n",
       "      <td>Abyssomicin.FASTA</td>\n",
       "      <td>CC1CC(C(=O)C2=C3C4(CC(C(O3)C(C4C=CC1=O)O)C)OC2...</td>\n",
       "    </tr>\n",
       "    <tr>\n",
       "      <th>1</th>\n",
       "      <td>Acidobactin_Cluster.fasta</td>\n",
       "      <td>CC(O)C1NC(=O)CC(O)C(CCCN(O)C=O)NC(=O)CC(C)OC(=...</td>\n",
       "    </tr>\n",
       "    <tr>\n",
       "      <th>2</th>\n",
       "      <td>actinonin_BGC0001442.fasta</td>\n",
       "      <td>O=C([C@H](C(C)C)NC([C@@H](CC(NO)=O)CCCCC)=O)N1...</td>\n",
       "    </tr>\n",
       "    <tr>\n",
       "      <th>3</th>\n",
       "      <td>Actiphenol.fasta</td>\n",
       "      <td>O=C(CC1CC(NC(C1)=O)=O)C2=C(O)C(C)=CC(C)=C2</td>\n",
       "    </tr>\n",
       "    <tr>\n",
       "      <th>4</th>\n",
       "      <td>Aerobactin_partial.fasta</td>\n",
       "      <td>CC(N(O)CCCC[C@H](NC(CC(C(O)=O)(O)CC(N[C@H](C(O...</td>\n",
       "    </tr>\n",
       "    <tr>\n",
       "      <th>...</th>\n",
       "      <td>...</td>\n",
       "      <td>...</td>\n",
       "    </tr>\n",
       "    <tr>\n",
       "      <th>1276</th>\n",
       "      <td>Totopotensamide_A.fasta</td>\n",
       "      <td>CC[C@H](C)[C@@H]1NC([C@H](NC([C@H](NC([C@H](C)...</td>\n",
       "    </tr>\n",
       "    <tr>\n",
       "      <th>1277</th>\n",
       "      <td>vibrioferrin_partial.fasta</td>\n",
       "      <td>CC(N(O)CCCC[C@H](NC(CC(C(O)=O)(O)CC(N[C@H](C(O...</td>\n",
       "    </tr>\n",
       "    <tr>\n",
       "      <th>1278</th>\n",
       "      <td>warkmycin.fasta</td>\n",
       "      <td>O[C@@]12[C@@]([C@H](OC(C)=O)C(C)=C[C@@H]2O[C@@...</td>\n",
       "    </tr>\n",
       "    <tr>\n",
       "      <th>1279</th>\n",
       "      <td>welwitindolinone.fasta</td>\n",
       "      <td>O=C(NC1=C2C=CC=C1)[C@]2(C(C)(C)[C@]([H])3C[C@H...</td>\n",
       "    </tr>\n",
       "    <tr>\n",
       "      <th>1280</th>\n",
       "      <td>WS9326A_cluster.fasta</td>\n",
       "      <td>O=C([C@@H](NC(/C=C/C(C=CC=C1)=C1/C=C\\CCC)=O)[C...</td>\n",
       "    </tr>\n",
       "  </tbody>\n",
       "</table>\n",
       "<p>1281 rows × 2 columns</p>\n",
       "</div>"
      ],
      "text/plain": [
       "                         Cluster  \\\n",
       "0              Abyssomicin.FASTA   \n",
       "1      Acidobactin_Cluster.fasta   \n",
       "2     actinonin_BGC0001442.fasta   \n",
       "3               Actiphenol.fasta   \n",
       "4       Aerobactin_partial.fasta   \n",
       "...                          ...   \n",
       "1276     Totopotensamide_A.fasta   \n",
       "1277  vibrioferrin_partial.fasta   \n",
       "1278             warkmycin.fasta   \n",
       "1279      welwitindolinone.fasta   \n",
       "1280       WS9326A_cluster.fasta   \n",
       "\n",
       "                                            True SMILES  \n",
       "0     CC1CC(C(=O)C2=C3C4(CC(C(O3)C(C4C=CC1=O)O)C)OC2...  \n",
       "1     CC(O)C1NC(=O)CC(O)C(CCCN(O)C=O)NC(=O)CC(C)OC(=...  \n",
       "2     O=C([C@H](C(C)C)NC([C@@H](CC(NO)=O)CCCCC)=O)N1...  \n",
       "3            O=C(CC1CC(NC(C1)=O)=O)C2=C(O)C(C)=CC(C)=C2  \n",
       "4     CC(N(O)CCCC[C@H](NC(CC(C(O)=O)(O)CC(N[C@H](C(O...  \n",
       "...                                                 ...  \n",
       "1276  CC[C@H](C)[C@@H]1NC([C@H](NC([C@H](NC([C@H](C)...  \n",
       "1277  CC(N(O)CCCC[C@H](NC(CC(C(O)=O)(O)CC(N[C@H](C(O...  \n",
       "1278  O[C@@]12[C@@]([C@H](OC(C)=O)C(C)=C[C@@H]2O[C@@...  \n",
       "1279  O=C(NC1=C2C=CC=C1)[C@]2(C(C)(C)[C@]([H])3C[C@H...  \n",
       "1280  O=C([C@@H](NC(/C=C/C(C=CC=C1)=C1/C=C\\CCC)=O)[C...  \n",
       "\n",
       "[1281 rows x 2 columns]"
      ]
     },
     "execution_count": 5,
     "metadata": {},
     "output_type": "execute_result"
    }
   ],
   "source": [
    "df"
   ]
  },
  {
   "cell_type": "code",
   "execution_count": 6,
   "id": "76d0e65e",
   "metadata": {},
   "outputs": [],
   "source": [
    "def canonicalize_smiles(smiles):\n",
    "    molecule = Chem.MolFromSmiles(smiles)\n",
    "    molecule = Chem.MolToSmiles(molecule, canonical=True, isomericSmiles=False)\n",
    "    return molecule\n",
    "\n",
    "df['True SMILES'] = df['True SMILES'].apply(canonicalize_smiles)"
   ]
  },
  {
   "cell_type": "code",
   "execution_count": 7,
   "id": "27be3385",
   "metadata": {},
   "outputs": [],
   "source": [
    "df['Cluster'] = df['Cluster'].str.replace('.gbk', '.fasta')"
   ]
  },
  {
   "cell_type": "code",
   "execution_count": 8,
   "id": "17287222",
   "metadata": {},
   "outputs": [],
   "source": [
    "df.to_csv('prism_bgc.csv', index=False)"
   ]
  },
  {
   "cell_type": "code",
   "execution_count": 9,
   "id": "548a411b",
   "metadata": {},
   "outputs": [],
   "source": [
    "import tarfile\n",
    "import os\n",
    "from Bio import SeqIO"
   ]
  },
  {
   "cell_type": "code",
   "execution_count": 10,
   "id": "c7db4ce7",
   "metadata": {},
   "outputs": [],
   "source": [
    "os.makedirs('prism_fasta', exist_ok=True)\n",
    "\n",
    "with tarfile.open('BGCs.tar', 'r') as tar:\n",
    "    sequences = [m for m in tar.getmembers() if m.name.startswith('./sequences/')]\n",
    "    \n",
    "    for member in sequences:\n",
    "        filename = member.name.split('/')[-1]\n",
    "        \n",
    "        file_obj = tar.extractfile(member)\n",
    "        if file_obj:\n",
    "            with open(f'prism_fasta/{filename}', 'wb') as f:\n",
    "                f.write(file_obj.read())"
   ]
  },
  {
   "cell_type": "code",
   "execution_count": 11,
   "id": "174096f6",
   "metadata": {},
   "outputs": [],
   "source": [
    "#for each file in prism_fasta, get the gbk, and substitute it with the fasta sequence\n",
    "\n",
    "gbk_files = [f for f in os.listdir('prism_fasta') if f.endswith('.gbk')]\n",
    "\n",
    "for gbk in gbk_files:\n",
    "    gbk_record = SeqIO.read(f'prism_fasta/{gbk}', 'genbank')\n",
    "    dna_seq = str(gbk_record.seq)\n",
    "    fasta_filename = gbk.replace('.gbk', '.fasta')\n",
    "    with open(f'prism_fasta/{fasta_filename}', 'w') as fasta_file:\n",
    "        fasta_file.write(f'>{gbk_record.id}\\n{dna_seq}\\n')\n",
    "    os.remove(f'prism_fasta/{gbk}')"
   ]
  },
  {
   "cell_type": "code",
   "execution_count": 12,
   "id": "6383ffcc",
   "metadata": {},
   "outputs": [],
   "source": [
    "# for each file with more than one sequence, sub for the concatenated sequence\n",
    "for fasta_file in os.listdir('prism_fasta'):\n",
    "    records = list(SeqIO.parse(f'prism_fasta/{fasta_file}', 'fasta'))\n",
    "    if len(records) > 1:\n",
    "        concatenated_seq = ''.join(str(record.seq) for record in records)\n",
    "        with open(f'prism_fasta/{fasta_file}', 'w') as f:\n",
    "            f.write(f'>{records[0].id}\\n{concatenated_seq}\\n')"
   ]
  },
  {
   "cell_type": "code",
   "execution_count": 13,
   "id": "ea783622",
   "metadata": {},
   "outputs": [],
   "source": [
    "# check if file has more than one sequence\n",
    "for fasta_file in os.listdir('prism_fasta'):\n",
    "    records = list(SeqIO.parse(f'prism_fasta/{fasta_file}', 'fasta'))\n",
    "    if len(records) > 1:\n",
    "        print(f'{fasta_file} has more than one sequence: {len(records)} sequences')"
   ]
  },
  {
   "cell_type": "code",
   "execution_count": 14,
   "id": "ae9d5afb",
   "metadata": {},
   "outputs": [],
   "source": [
    "# rename each header in the fasta files to the name of the file\n",
    "for fasta_file in os.listdir('prism_fasta'):\n",
    "    new_header = fasta_file\n",
    "    records = list(SeqIO.parse(f'prism_fasta/{fasta_file}', 'fasta'))\n",
    "    if records:\n",
    "        records[0].id = new_header\n",
    "        records[0].description = ''\n",
    "        SeqIO.write(records, f'prism_fasta/{fasta_file}', 'fasta')"
   ]
  }
 ],
 "metadata": {
  "kernelspec": {
   "display_name": "BGC2Mol",
   "language": "python",
   "name": "python3"
  },
  "language_info": {
   "codemirror_mode": {
    "name": "ipython",
    "version": 3
   },
   "file_extension": ".py",
   "mimetype": "text/x-python",
   "name": "python",
   "nbconvert_exporter": "python",
   "pygments_lexer": "ipython3",
   "version": "3.10.18"
  }
 },
 "nbformat": 4,
 "nbformat_minor": 5
}
