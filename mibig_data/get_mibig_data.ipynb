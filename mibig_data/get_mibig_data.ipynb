{
 "cells": [
  {
   "cell_type": "code",
   "execution_count": 1,
   "id": "4805a000",
   "metadata": {},
   "outputs": [],
   "source": [
    "import tarfile\n",
    "import json\n",
    "import pandas as pd"
   ]
  },
  {
   "cell_type": "code",
   "execution_count": 2,
   "id": "b45d445a",
   "metadata": {},
   "outputs": [
    {
     "name": "stdout",
     "output_type": "stream",
     "text": [
      "3014\n"
     ]
    }
   ],
   "source": [
    "with tarfile.open(\"mibig_json_4.0.tar\", \"r\") as tar:\n",
    "    members = tar.getmembers()\n",
    "    print(len(members))\n",
    "    \n",
    "    json_files = [m for m in members if m.name.endswith('.json')]\n",
    "    data = []\n",
    "    for json_file in json_files:\n",
    "        json_data = json.load(tar.extractfile(json_file))\n",
    "        data.append(json_data)\n"
   ]
  },
  {
   "cell_type": "code",
   "execution_count": 3,
   "id": "234034da",
   "metadata": {},
   "outputs": [],
   "source": [
    "bgc_data = []\n",
    "for bgc in data:\n",
    "    if bgc.get('status') == 'active' and any(c.get('structure') for c in bgc.get('compounds', [])):\n",
    "        compounds = bgc.get('compounds', [])\n",
    "        structure = next((c.get('structure') for c in compounds if c.get('structure')), None)\n",
    "\n",
    "        bgc_info = {\n",
    "            'accession': bgc.get('accession'),\n",
    "            'quality': bgc.get('quality'),\n",
    "            'completeness': bgc.get('completeness'),\n",
    "            'first_compound': structure,\n",
    "            'taxonomy': bgc.get('taxonomy')\n",
    "        }\n",
    "\n",
    "        bgc_data.append(bgc_info)\n"
   ]
  },
  {
   "cell_type": "code",
   "execution_count": 4,
   "id": "bc973d14",
   "metadata": {},
   "outputs": [],
   "source": [
    "df = pd.DataFrame(bgc_data)"
   ]
  },
  {
   "cell_type": "code",
   "execution_count": 5,
   "id": "a9a2116f",
   "metadata": {},
   "outputs": [
    {
     "data": {
      "text/plain": [
       "np.int64(0)"
      ]
     },
     "execution_count": 5,
     "metadata": {},
     "output_type": "execute_result"
    }
   ],
   "source": [
    "df['first_compound'].isna().sum()"
   ]
  },
  {
   "cell_type": "code",
   "execution_count": 6,
   "id": "556e3c28",
   "metadata": {},
   "outputs": [
    {
     "data": {
      "text/html": [
       "<div>\n",
       "<style scoped>\n",
       "    .dataframe tbody tr th:only-of-type {\n",
       "        vertical-align: middle;\n",
       "    }\n",
       "\n",
       "    .dataframe tbody tr th {\n",
       "        vertical-align: top;\n",
       "    }\n",
       "\n",
       "    .dataframe thead th {\n",
       "        text-align: right;\n",
       "    }\n",
       "</style>\n",
       "<table border=\"1\" class=\"dataframe\">\n",
       "  <thead>\n",
       "    <tr style=\"text-align: right;\">\n",
       "      <th></th>\n",
       "      <th>accession</th>\n",
       "      <th>quality</th>\n",
       "      <th>completeness</th>\n",
       "      <th>first_compound</th>\n",
       "      <th>taxonomy</th>\n",
       "    </tr>\n",
       "  </thead>\n",
       "  <tbody>\n",
       "    <tr>\n",
       "      <th>0</th>\n",
       "      <td>BGC0000001</td>\n",
       "      <td>questionable</td>\n",
       "      <td>complete</td>\n",
       "      <td>CC1C[C@]23OC(=O)C4=C2OC1C(O)C3\\C=C/C(=O)[C@@H]...</td>\n",
       "      <td>{'name': 'Verrucosispora maris AB-18-032', 'nc...</td>\n",
       "    </tr>\n",
       "    <tr>\n",
       "      <th>1</th>\n",
       "      <td>BGC0000002</td>\n",
       "      <td>questionable</td>\n",
       "      <td>unknown</td>\n",
       "      <td>CCCC(O[C@H]1C[C@](C)(N)[C@H](O)[C@H](C)O1)C(C)...</td>\n",
       "      <td>{'name': 'Kutzneria albida DSM 43870', 'ncbiTa...</td>\n",
       "    </tr>\n",
       "    <tr>\n",
       "      <th>2</th>\n",
       "      <td>BGC0000003</td>\n",
       "      <td>questionable</td>\n",
       "      <td>unknown</td>\n",
       "      <td>CCC(C)C(C(=O)OC(/C=C/C=C/C=C/C(=O)O)C1(CO1)C)O...</td>\n",
       "      <td>{'name': 'Alternaria alternata', 'ncbiTaxId': ...</td>\n",
       "    </tr>\n",
       "    <tr>\n",
       "      <th>3</th>\n",
       "      <td>BGC0000004</td>\n",
       "      <td>questionable</td>\n",
       "      <td>unknown</td>\n",
       "      <td>COC1=C2C3=C(C(=O)OCC3)C(=O)OC2=C4[C@H]5C=CO[C@...</td>\n",
       "      <td>{'name': 'Aspergillus oryzae', 'ncbiTaxId': 5062}</td>\n",
       "    </tr>\n",
       "    <tr>\n",
       "      <th>4</th>\n",
       "      <td>BGC0000006</td>\n",
       "      <td>questionable</td>\n",
       "      <td>unknown</td>\n",
       "      <td>COc1cc2c(c3oc(=O)c4c(c13)CCC4=O)[C@@H]1C=CO[C@...</td>\n",
       "      <td>{'name': 'Aspergillus flavus', 'ncbiTaxId': 5059}</td>\n",
       "    </tr>\n",
       "    <tr>\n",
       "      <th>...</th>\n",
       "      <td>...</td>\n",
       "      <td>...</td>\n",
       "      <td>...</td>\n",
       "      <td>...</td>\n",
       "      <td>...</td>\n",
       "    </tr>\n",
       "    <tr>\n",
       "      <th>1939</th>\n",
       "      <td>BGC0002814</td>\n",
       "      <td>questionable</td>\n",
       "      <td>unknown</td>\n",
       "      <td>[H][C@@]1(O[C@]2(C[C@H](OC)[C@H](C)[C@]([H])(C...</td>\n",
       "      <td>{'name': 'Acanthopleuribacter pedis KCTC 12899...</td>\n",
       "    </tr>\n",
       "    <tr>\n",
       "      <th>1940</th>\n",
       "      <td>BGC0002815</td>\n",
       "      <td>questionable</td>\n",
       "      <td>unknown</td>\n",
       "      <td>CC[C@H](C)[C@@H]1NC(=O)[C@@H](CC(O)=O)NC(=O)CN...</td>\n",
       "      <td>{'name': 'Acanthopleuribacter pedis KCTC 12899...</td>\n",
       "    </tr>\n",
       "    <tr>\n",
       "      <th>1941</th>\n",
       "      <td>BGC0002816</td>\n",
       "      <td>questionable</td>\n",
       "      <td>complete</td>\n",
       "      <td>O=C(/C(OC)=C/C(C)=C/[C@H]([C@@H](O)[C@H](C)C1)...</td>\n",
       "      <td>{'name': 'Nocardia terpenica AUSMDU00012715', ...</td>\n",
       "    </tr>\n",
       "    <tr>\n",
       "      <th>1942</th>\n",
       "      <td>BGC0002825</td>\n",
       "      <td>questionable</td>\n",
       "      <td>complete</td>\n",
       "      <td>C[C@H](O)[C@@H](NC(=O)[C@@H]1CCCN1C(=O)CNC(=O)...</td>\n",
       "      <td>{'name': 'Nocardia terpenica IFM 0406', 'ncbiT...</td>\n",
       "    </tr>\n",
       "    <tr>\n",
       "      <th>1943</th>\n",
       "      <td>BGC0002826</td>\n",
       "      <td>questionable</td>\n",
       "      <td>complete</td>\n",
       "      <td>Nc1cc(ccc1O)-c1nc2cc(ccc2o1)C(=O)Nc1cc(ccc1O)C...</td>\n",
       "      <td>{'name': 'Clostridium cavendishii DSM 21758', ...</td>\n",
       "    </tr>\n",
       "  </tbody>\n",
       "</table>\n",
       "<p>1944 rows × 5 columns</p>\n",
       "</div>"
      ],
      "text/plain": [
       "       accession       quality completeness  \\\n",
       "0     BGC0000001  questionable     complete   \n",
       "1     BGC0000002  questionable      unknown   \n",
       "2     BGC0000003  questionable      unknown   \n",
       "3     BGC0000004  questionable      unknown   \n",
       "4     BGC0000006  questionable      unknown   \n",
       "...          ...           ...          ...   \n",
       "1939  BGC0002814  questionable      unknown   \n",
       "1940  BGC0002815  questionable      unknown   \n",
       "1941  BGC0002816  questionable     complete   \n",
       "1942  BGC0002825  questionable     complete   \n",
       "1943  BGC0002826  questionable     complete   \n",
       "\n",
       "                                         first_compound  \\\n",
       "0     CC1C[C@]23OC(=O)C4=C2OC1C(O)C3\\C=C/C(=O)[C@@H]...   \n",
       "1     CCCC(O[C@H]1C[C@](C)(N)[C@H](O)[C@H](C)O1)C(C)...   \n",
       "2     CCC(C)C(C(=O)OC(/C=C/C=C/C=C/C(=O)O)C1(CO1)C)O...   \n",
       "3     COC1=C2C3=C(C(=O)OCC3)C(=O)OC2=C4[C@H]5C=CO[C@...   \n",
       "4     COc1cc2c(c3oc(=O)c4c(c13)CCC4=O)[C@@H]1C=CO[C@...   \n",
       "...                                                 ...   \n",
       "1939  [H][C@@]1(O[C@]2(C[C@H](OC)[C@H](C)[C@]([H])(C...   \n",
       "1940  CC[C@H](C)[C@@H]1NC(=O)[C@@H](CC(O)=O)NC(=O)CN...   \n",
       "1941  O=C(/C(OC)=C/C(C)=C/[C@H]([C@@H](O)[C@H](C)C1)...   \n",
       "1942  C[C@H](O)[C@@H](NC(=O)[C@@H]1CCCN1C(=O)CNC(=O)...   \n",
       "1943  Nc1cc(ccc1O)-c1nc2cc(ccc2o1)C(=O)Nc1cc(ccc1O)C...   \n",
       "\n",
       "                                               taxonomy  \n",
       "0     {'name': 'Verrucosispora maris AB-18-032', 'nc...  \n",
       "1     {'name': 'Kutzneria albida DSM 43870', 'ncbiTa...  \n",
       "2     {'name': 'Alternaria alternata', 'ncbiTaxId': ...  \n",
       "3     {'name': 'Aspergillus oryzae', 'ncbiTaxId': 5062}  \n",
       "4     {'name': 'Aspergillus flavus', 'ncbiTaxId': 5059}  \n",
       "...                                                 ...  \n",
       "1939  {'name': 'Acanthopleuribacter pedis KCTC 12899...  \n",
       "1940  {'name': 'Acanthopleuribacter pedis KCTC 12899...  \n",
       "1941  {'name': 'Nocardia terpenica AUSMDU00012715', ...  \n",
       "1942  {'name': 'Nocardia terpenica IFM 0406', 'ncbiT...  \n",
       "1943  {'name': 'Clostridium cavendishii DSM 21758', ...  \n",
       "\n",
       "[1944 rows x 5 columns]"
      ]
     },
     "execution_count": 6,
     "metadata": {},
     "output_type": "execute_result"
    }
   ],
   "source": [
    "df"
   ]
  },
  {
   "cell_type": "code",
   "execution_count": 7,
   "id": "33de1bfe",
   "metadata": {},
   "outputs": [],
   "source": [
    "from rdkit import Chem"
   ]
  },
  {
   "cell_type": "code",
   "execution_count": 8,
   "id": "3852846a",
   "metadata": {},
   "outputs": [
    {
     "name": "stderr",
     "output_type": "stream",
     "text": [
      "[15:55:22] WARNING: not removing hydrogen atom without neighbors\n",
      "[15:55:22] WARNING: not removing hydrogen atom without neighbors\n",
      "[15:55:22] WARNING: not removing hydrogen atom without neighbors\n",
      "[15:55:22] WARNING: not removing hydrogen atom without neighbors\n"
     ]
    }
   ],
   "source": [
    "def canonicalize_smiles(smiles):\n",
    "    molecule = Chem.MolFromSmiles(smiles)\n",
    "    molecule = Chem.MolToSmiles(molecule, canonical=True, isomericSmiles=False)\n",
    "    return molecule\n",
    "\n",
    "df['first_compound'] = df['first_compound'].apply(canonicalize_smiles)"
   ]
  },
  {
   "cell_type": "code",
   "execution_count": 9,
   "id": "2ceebe8c",
   "metadata": {},
   "outputs": [],
   "source": [
    "# remove duplicate smiles based on completeness\n",
    "duplicated = df['first_compound'].duplicated(keep=False)\n",
    "df = (\n",
    "    df.sort_values(by=['completeness'], ascending=False) \n",
    "      .groupby('first_compound', as_index=False)\n",
    "      .first()\n",
    ")"
   ]
  },
  {
   "cell_type": "code",
   "execution_count": 10,
   "id": "0c69be59",
   "metadata": {},
   "outputs": [
    {
     "data": {
      "text/plain": [
       "first_compound\n",
       "False    1673\n",
       "Name: count, dtype: int64"
      ]
     },
     "execution_count": 10,
     "metadata": {},
     "output_type": "execute_result"
    }
   ],
   "source": [
    "duplicated = df['first_compound'].duplicated(keep=False)\n",
    "duplicated.value_counts()"
   ]
  },
  {
   "cell_type": "code",
   "execution_count": 11,
   "id": "8c8efe20",
   "metadata": {},
   "outputs": [],
   "source": [
    "df = df[[ 'accession' ,'first_compound', 'quality', 'completeness']]"
   ]
  },
  {
   "cell_type": "code",
   "execution_count": 12,
   "id": "ba5c40b9",
   "metadata": {},
   "outputs": [],
   "source": [
    "df.to_csv('mibig_active_bgc.csv', index=False)"
   ]
  },
  {
   "cell_type": "code",
   "execution_count": 13,
   "id": "9374205c",
   "metadata": {},
   "outputs": [],
   "source": [
    "with tarfile.open('mibig_gbk_4.0.tar', 'r') as tar:\n",
    "    members = tar.getmembers()\n",
    "    gbk_files = {m.name.split('/')[-1].replace('.gbk',''): m for m in members if m.name.endswith('.gbk')}\n",
    "    \n",
    "    filtered_bgcs ={bgc_id: gbk_files[bgc_id] for bgc_id in df['accession'] if bgc_id in gbk_files}"
   ]
  },
  {
   "cell_type": "code",
   "execution_count": 14,
   "id": "0e73fc45",
   "metadata": {},
   "outputs": [],
   "source": [
    "from Bio import SeqIO\n",
    "from io import TextIOWrapper\n",
    "import os"
   ]
  },
  {
   "cell_type": "code",
   "execution_count": 15,
   "id": "8086fc50",
   "metadata": {},
   "outputs": [],
   "source": [
    "os.makedirs('mibig_fasta', exist_ok=True)\n",
    "\n",
    "with tarfile.open(\"mibig_gbk_4.0.tar\", \"r\") as tar:\n",
    "    for bgc_id, tarinfo in filtered_bgcs.items():\n",
    "        file_obj = tar.extractfile(tarinfo)\n",
    "        if file_obj is None:\n",
    "            continue\n",
    "\n",
    "        gbk_record = SeqIO.read(TextIOWrapper(file_obj), \"genbank\")\n",
    "        \n",
    "        dna_seq = str(gbk_record.seq)\n",
    "        \n",
    "        fasta_filename = f\"mibig_fasta/{bgc_id}.fasta\"\n",
    "        with open(fasta_filename, 'w') as f:\n",
    "            f.write(f\">{bgc_id}\\n\")\n",
    "            f.write(f\"{dna_seq}\\n\")"
   ]
  }
 ],
 "metadata": {
  "kernelspec": {
   "display_name": "BGC2Mol",
   "language": "python",
   "name": "python3"
  },
  "language_info": {
   "codemirror_mode": {
    "name": "ipython",
    "version": 3
   },
   "file_extension": ".py",
   "mimetype": "text/x-python",
   "name": "python",
   "nbconvert_exporter": "python",
   "pygments_lexer": "ipython3",
   "version": "3.10.18"
  }
 },
 "nbformat": 4,
 "nbformat_minor": 5
}
