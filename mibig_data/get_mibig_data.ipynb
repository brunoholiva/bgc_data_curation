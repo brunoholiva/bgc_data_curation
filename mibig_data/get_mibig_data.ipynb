{
 "cells": [
  {
   "cell_type": "code",
   "execution_count": 1,
   "id": "4805a000",
   "metadata": {},
   "outputs": [],
   "source": [
    "import tarfile\n",
    "import json\n",
    "import pandas as pd"
   ]
  },
  {
   "cell_type": "code",
   "execution_count": 2,
   "id": "b45d445a",
   "metadata": {},
   "outputs": [
    {
     "name": "stdout",
     "output_type": "stream",
     "text": [
      "3014\n"
     ]
    }
   ],
   "source": [
    "with tarfile.open(\"mibig_json_4.0.tar\", \"r\") as tar:\n",
    "    members = tar.getmembers()\n",
    "    print(len(members))\n",
    "    \n",
    "    json_files = [m for m in members if m.name.endswith('.json')]\n",
    "    data = []\n",
    "    for json_file in json_files:\n",
    "        json_data = json.load(tar.extractfile(json_file))\n",
    "        data.append(json_data)\n"
   ]
  },
  {
   "cell_type": "code",
   "execution_count": 3,
   "id": "234034da",
   "metadata": {},
   "outputs": [],
   "source": [
    "bgc_data = []\n",
    "for bgc in data:\n",
    "    if bgc.get('status') != 'retired' and any(c.get('structure') for c in bgc.get('compounds', [])):\n",
    "        compounds = bgc.get('compounds', [])\n",
    "        structure = next((c.get('structure') for c in compounds if c.get('structure')), None)\n",
    "\n",
    "        bgc_info = {\n",
    "            'accession': bgc.get('accession'),\n",
    "            'quality': bgc.get('quality'),\n",
    "            'completeness': bgc.get('completeness'),\n",
    "            'first_compound': structure,\n",
    "            'taxonomy': bgc.get('taxonomy'),\n",
    "            'status': bgc.get('status'),\n",
    "        }\n",
    "\n",
    "        bgc_data.append(bgc_info)\n"
   ]
  },
  {
   "cell_type": "code",
   "execution_count": 4,
   "id": "bc973d14",
   "metadata": {},
   "outputs": [],
   "source": [
    "df = pd.DataFrame(bgc_data)"
   ]
  },
  {
   "cell_type": "code",
   "execution_count": 5,
   "id": "a9a2116f",
   "metadata": {},
   "outputs": [
    {
     "data": {
      "text/plain": [
       "np.int64(0)"
      ]
     },
     "execution_count": 5,
     "metadata": {},
     "output_type": "execute_result"
    }
   ],
   "source": [
    "df['first_compound'].isna().sum()"
   ]
  },
  {
   "cell_type": "code",
   "execution_count": 6,
   "id": "556e3c28",
   "metadata": {},
   "outputs": [
    {
     "data": {
      "text/html": [
       "<div>\n",
       "<style scoped>\n",
       "    .dataframe tbody tr th:only-of-type {\n",
       "        vertical-align: middle;\n",
       "    }\n",
       "\n",
       "    .dataframe tbody tr th {\n",
       "        vertical-align: top;\n",
       "    }\n",
       "\n",
       "    .dataframe thead th {\n",
       "        text-align: right;\n",
       "    }\n",
       "</style>\n",
       "<table border=\"1\" class=\"dataframe\">\n",
       "  <thead>\n",
       "    <tr style=\"text-align: right;\">\n",
       "      <th></th>\n",
       "      <th>accession</th>\n",
       "      <th>quality</th>\n",
       "      <th>completeness</th>\n",
       "      <th>first_compound</th>\n",
       "      <th>taxonomy</th>\n",
       "      <th>status</th>\n",
       "    </tr>\n",
       "  </thead>\n",
       "  <tbody>\n",
       "    <tr>\n",
       "      <th>0</th>\n",
       "      <td>BGC0000001</td>\n",
       "      <td>questionable</td>\n",
       "      <td>complete</td>\n",
       "      <td>CC1C[C@]23OC(=O)C4=C2OC1C(O)C3\\C=C/C(=O)[C@@H]...</td>\n",
       "      <td>{'name': 'Verrucosispora maris AB-18-032', 'nc...</td>\n",
       "      <td>active</td>\n",
       "    </tr>\n",
       "    <tr>\n",
       "      <th>1</th>\n",
       "      <td>BGC0000002</td>\n",
       "      <td>questionable</td>\n",
       "      <td>unknown</td>\n",
       "      <td>CCCC(O[C@H]1C[C@](C)(N)[C@H](O)[C@H](C)O1)C(C)...</td>\n",
       "      <td>{'name': 'Kutzneria albida DSM 43870', 'ncbiTa...</td>\n",
       "      <td>active</td>\n",
       "    </tr>\n",
       "    <tr>\n",
       "      <th>2</th>\n",
       "      <td>BGC0000003</td>\n",
       "      <td>questionable</td>\n",
       "      <td>unknown</td>\n",
       "      <td>CCC(C)C(C(=O)OC(/C=C/C=C/C=C/C(=O)O)C1(CO1)C)O...</td>\n",
       "      <td>{'name': 'Alternaria alternata', 'ncbiTaxId': ...</td>\n",
       "      <td>active</td>\n",
       "    </tr>\n",
       "    <tr>\n",
       "      <th>3</th>\n",
       "      <td>BGC0000004</td>\n",
       "      <td>questionable</td>\n",
       "      <td>unknown</td>\n",
       "      <td>COC1=C2C3=C(C(=O)OCC3)C(=O)OC2=C4[C@H]5C=CO[C@...</td>\n",
       "      <td>{'name': 'Aspergillus oryzae', 'ncbiTaxId': 5062}</td>\n",
       "      <td>active</td>\n",
       "    </tr>\n",
       "    <tr>\n",
       "      <th>4</th>\n",
       "      <td>BGC0000006</td>\n",
       "      <td>questionable</td>\n",
       "      <td>unknown</td>\n",
       "      <td>COc1cc2c(c3oc(=O)c4c(c13)CCC4=O)[C@@H]1C=CO[C@...</td>\n",
       "      <td>{'name': 'Aspergillus flavus', 'ncbiTaxId': 5059}</td>\n",
       "      <td>active</td>\n",
       "    </tr>\n",
       "    <tr>\n",
       "      <th>...</th>\n",
       "      <td>...</td>\n",
       "      <td>...</td>\n",
       "      <td>...</td>\n",
       "      <td>...</td>\n",
       "      <td>...</td>\n",
       "      <td>...</td>\n",
       "    </tr>\n",
       "    <tr>\n",
       "      <th>2110</th>\n",
       "      <td>BGC0003164</td>\n",
       "      <td>questionable</td>\n",
       "      <td>complete</td>\n",
       "      <td>NCCC[C@H](N)CC(=O)N[C@@H]1[C@H](O)[C@@H](OC(N)...</td>\n",
       "      <td>{'name': 'Streptomyces  fd1-xmd', 'ncbiTaxId':...</td>\n",
       "      <td>pending</td>\n",
       "    </tr>\n",
       "    <tr>\n",
       "      <th>2111</th>\n",
       "      <td>BGC0003165</td>\n",
       "      <td>high</td>\n",
       "      <td>complete</td>\n",
       "      <td>CN(C1C(O)[C@@H](OC(N)=O)C(CO)OC1\\N=C1/NC2C(N1)...</td>\n",
       "      <td>{'name': 'Streptomyces luteocolor BD-12', 'ncb...</td>\n",
       "      <td>pending</td>\n",
       "    </tr>\n",
       "    <tr>\n",
       "      <th>2112</th>\n",
       "      <td>BGC0003168</td>\n",
       "      <td>high</td>\n",
       "      <td>complete</td>\n",
       "      <td>CO[C@@H]([C@@H](O)[C@@H](O)[C@@H]1CO)[C@H](O1)...</td>\n",
       "      <td>{'name': 'Streptomyces sp. WAC1420', 'ncbiTaxI...</td>\n",
       "      <td>pending</td>\n",
       "    </tr>\n",
       "    <tr>\n",
       "      <th>2113</th>\n",
       "      <td>BGC0003169</td>\n",
       "      <td>high</td>\n",
       "      <td>complete</td>\n",
       "      <td>O=C(N[C@@H](CCNC1=O)C(N[C@@H](CCN)C(N[C@H](CC2...</td>\n",
       "      <td>{'name': 'Paenibacillus polymyxa PKB1', 'ncbiT...</td>\n",
       "      <td>pending</td>\n",
       "    </tr>\n",
       "    <tr>\n",
       "      <th>2114</th>\n",
       "      <td>BGC0003170</td>\n",
       "      <td>high</td>\n",
       "      <td>complete</td>\n",
       "      <td>O=C(N[C@@H](CCNC1=O)C(N[C@@H](CCN)C(N[C@H](CC2...</td>\n",
       "      <td>{'name': 'Paenibacillus polymyxa M1', 'ncbiTax...</td>\n",
       "      <td>pending</td>\n",
       "    </tr>\n",
       "  </tbody>\n",
       "</table>\n",
       "<p>2115 rows × 6 columns</p>\n",
       "</div>"
      ],
      "text/plain": [
       "       accession       quality completeness  \\\n",
       "0     BGC0000001  questionable     complete   \n",
       "1     BGC0000002  questionable      unknown   \n",
       "2     BGC0000003  questionable      unknown   \n",
       "3     BGC0000004  questionable      unknown   \n",
       "4     BGC0000006  questionable      unknown   \n",
       "...          ...           ...          ...   \n",
       "2110  BGC0003164  questionable     complete   \n",
       "2111  BGC0003165          high     complete   \n",
       "2112  BGC0003168          high     complete   \n",
       "2113  BGC0003169          high     complete   \n",
       "2114  BGC0003170          high     complete   \n",
       "\n",
       "                                         first_compound  \\\n",
       "0     CC1C[C@]23OC(=O)C4=C2OC1C(O)C3\\C=C/C(=O)[C@@H]...   \n",
       "1     CCCC(O[C@H]1C[C@](C)(N)[C@H](O)[C@H](C)O1)C(C)...   \n",
       "2     CCC(C)C(C(=O)OC(/C=C/C=C/C=C/C(=O)O)C1(CO1)C)O...   \n",
       "3     COC1=C2C3=C(C(=O)OCC3)C(=O)OC2=C4[C@H]5C=CO[C@...   \n",
       "4     COc1cc2c(c3oc(=O)c4c(c13)CCC4=O)[C@@H]1C=CO[C@...   \n",
       "...                                                 ...   \n",
       "2110  NCCC[C@H](N)CC(=O)N[C@@H]1[C@H](O)[C@@H](OC(N)...   \n",
       "2111  CN(C1C(O)[C@@H](OC(N)=O)C(CO)OC1\\N=C1/NC2C(N1)...   \n",
       "2112  CO[C@@H]([C@@H](O)[C@@H](O)[C@@H]1CO)[C@H](O1)...   \n",
       "2113  O=C(N[C@@H](CCNC1=O)C(N[C@@H](CCN)C(N[C@H](CC2...   \n",
       "2114  O=C(N[C@@H](CCNC1=O)C(N[C@@H](CCN)C(N[C@H](CC2...   \n",
       "\n",
       "                                               taxonomy   status  \n",
       "0     {'name': 'Verrucosispora maris AB-18-032', 'nc...   active  \n",
       "1     {'name': 'Kutzneria albida DSM 43870', 'ncbiTa...   active  \n",
       "2     {'name': 'Alternaria alternata', 'ncbiTaxId': ...   active  \n",
       "3     {'name': 'Aspergillus oryzae', 'ncbiTaxId': 5062}   active  \n",
       "4     {'name': 'Aspergillus flavus', 'ncbiTaxId': 5059}   active  \n",
       "...                                                 ...      ...  \n",
       "2110  {'name': 'Streptomyces  fd1-xmd', 'ncbiTaxId':...  pending  \n",
       "2111  {'name': 'Streptomyces luteocolor BD-12', 'ncb...  pending  \n",
       "2112  {'name': 'Streptomyces sp. WAC1420', 'ncbiTaxI...  pending  \n",
       "2113  {'name': 'Paenibacillus polymyxa PKB1', 'ncbiT...  pending  \n",
       "2114  {'name': 'Paenibacillus polymyxa M1', 'ncbiTax...  pending  \n",
       "\n",
       "[2115 rows x 6 columns]"
      ]
     },
     "execution_count": 6,
     "metadata": {},
     "output_type": "execute_result"
    }
   ],
   "source": [
    "df"
   ]
  },
  {
   "cell_type": "code",
   "execution_count": 7,
   "id": "33de1bfe",
   "metadata": {},
   "outputs": [],
   "source": [
    "from rdkit import Chem"
   ]
  },
  {
   "cell_type": "code",
   "execution_count": 8,
   "id": "3852846a",
   "metadata": {},
   "outputs": [
    {
     "name": "stderr",
     "output_type": "stream",
     "text": [
      "[15:57:59] WARNING: not removing hydrogen atom without neighbors\n",
      "[15:57:59] WARNING: not removing hydrogen atom without neighbors\n",
      "[15:57:59] WARNING: not removing hydrogen atom without neighbors\n",
      "[15:57:59] WARNING: not removing hydrogen atom without neighbors\n"
     ]
    }
   ],
   "source": [
    "def canonicalize_smiles(smiles):\n",
    "    molecule = Chem.MolFromSmiles(smiles)\n",
    "    molecule = Chem.MolToSmiles(molecule, canonical=True, isomericSmiles=False)\n",
    "    return molecule\n",
    "\n",
    "df['first_compound'] = df['first_compound'].apply(canonicalize_smiles)"
   ]
  },
  {
   "cell_type": "code",
   "execution_count": 9,
   "id": "2ceebe8c",
   "metadata": {},
   "outputs": [],
   "source": [
    "# remove duplicate smiles based on completeness\n",
    "duplicated = df['first_compound'].duplicated(keep=False)\n",
    "df = (\n",
    "    df.sort_values(by=['completeness'], ascending=False) \n",
    "      .groupby('first_compound', as_index=False)\n",
    "      .first()\n",
    ")"
   ]
  },
  {
   "cell_type": "code",
   "execution_count": 10,
   "id": "0c69be59",
   "metadata": {},
   "outputs": [
    {
     "data": {
      "text/plain": [
       "first_compound\n",
       "False    1816\n",
       "Name: count, dtype: int64"
      ]
     },
     "execution_count": 10,
     "metadata": {},
     "output_type": "execute_result"
    }
   ],
   "source": [
    "duplicated = df['first_compound'].duplicated(keep=False)\n",
    "duplicated.value_counts()"
   ]
  },
  {
   "cell_type": "code",
   "execution_count": 11,
   "id": "8c8efe20",
   "metadata": {},
   "outputs": [],
   "source": [
    "df = df[[ 'accession' ,'first_compound', 'quality', 'completeness']]"
   ]
  },
  {
   "cell_type": "code",
   "execution_count": 12,
   "id": "ba5c40b9",
   "metadata": {},
   "outputs": [],
   "source": [
    "df.to_csv('mibig_active_bgc.csv', index=False)"
   ]
  },
  {
   "cell_type": "code",
   "execution_count": 13,
   "id": "9374205c",
   "metadata": {},
   "outputs": [],
   "source": [
    "with tarfile.open('mibig_gbk_4.0.tar', 'r') as tar:\n",
    "    members = tar.getmembers()\n",
    "    gbk_files = {m.name.split('/')[-1].replace('.gbk',''): m for m in members if m.name.endswith('.gbk')}\n",
    "    \n",
    "    filtered_bgcs ={bgc_id: gbk_files[bgc_id] for bgc_id in df['accession'] if bgc_id in gbk_files}"
   ]
  },
  {
   "cell_type": "code",
   "execution_count": 14,
   "id": "0e73fc45",
   "metadata": {},
   "outputs": [],
   "source": [
    "from Bio import SeqIO\n",
    "from io import TextIOWrapper\n",
    "import os"
   ]
  },
  {
   "cell_type": "code",
   "execution_count": 15,
   "id": "8086fc50",
   "metadata": {},
   "outputs": [],
   "source": [
    "os.makedirs('mibig_fasta', exist_ok=True)\n",
    "\n",
    "with tarfile.open(\"mibig_gbk_4.0.tar\", \"r\") as tar:\n",
    "    for bgc_id, tarinfo in filtered_bgcs.items():\n",
    "        file_obj = tar.extractfile(tarinfo)\n",
    "        if file_obj is None:\n",
    "            continue\n",
    "\n",
    "        gbk_record = SeqIO.read(TextIOWrapper(file_obj), \"genbank\")\n",
    "        \n",
    "        dna_seq = str(gbk_record.seq)\n",
    "        \n",
    "        fasta_filename = f\"mibig_fasta/{bgc_id}.fasta\"\n",
    "        with open(fasta_filename, 'w') as f:\n",
    "            f.write(f\">{bgc_id}\\n\")\n",
    "            f.write(f\"{dna_seq}\\n\")"
   ]
  }
 ],
 "metadata": {
  "kernelspec": {
   "display_name": "bgc_data",
   "language": "python",
   "name": "python3"
  },
  "language_info": {
   "codemirror_mode": {
    "name": "ipython",
    "version": 3
   },
   "file_extension": ".py",
   "mimetype": "text/x-python",
   "name": "python",
   "nbconvert_exporter": "python",
   "pygments_lexer": "ipython3",
   "version": "3.10.18"
  }
 },
 "nbformat": 4,
 "nbformat_minor": 5
}
