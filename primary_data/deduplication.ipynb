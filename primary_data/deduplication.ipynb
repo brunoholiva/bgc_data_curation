{
 "cells": [
  {
   "cell_type": "code",
   "execution_count": 8,
   "id": "2a455977",
   "metadata": {},
   "outputs": [],
   "source": [
    "import pandas as pd"
   ]
  },
  {
   "cell_type": "code",
   "execution_count": 12,
   "id": "a1cd48bb",
   "metadata": {},
   "outputs": [],
   "source": [
    "prism = pd.read_csv('prism4_data/prism_bgc.csv')\n",
    "mibig = pd.read_csv('mibig_data/mibig_active_bgc.csv')"
   ]
  },
  {
   "cell_type": "code",
   "execution_count": 13,
   "id": "dd55f82d",
   "metadata": {},
   "outputs": [],
   "source": [
    "prism.rename(columns={'True SMILES': 'SMILES'}, inplace=True)\n",
    "mibig.rename(columns={'first_compound': 'SMILES', 'accession':'Cluster'}, inplace=True)\n",
    "mibig.drop(columns=['quality', 'completeness'], inplace=True)"
   ]
  },
  {
   "cell_type": "code",
   "execution_count": 17,
   "id": "9f871863",
   "metadata": {},
   "outputs": [
    {
     "data": {
      "text/html": [
       "<div>\n",
       "<style scoped>\n",
       "    .dataframe tbody tr th:only-of-type {\n",
       "        vertical-align: middle;\n",
       "    }\n",
       "\n",
       "    .dataframe tbody tr th {\n",
       "        vertical-align: top;\n",
       "    }\n",
       "\n",
       "    .dataframe thead th {\n",
       "        text-align: right;\n",
       "    }\n",
       "</style>\n",
       "<table border=\"1\" class=\"dataframe\">\n",
       "  <thead>\n",
       "    <tr style=\"text-align: right;\">\n",
       "      <th></th>\n",
       "      <th>Cluster</th>\n",
       "      <th>SMILES</th>\n",
       "    </tr>\n",
       "  </thead>\n",
       "  <tbody>\n",
       "    <tr>\n",
       "      <th>0</th>\n",
       "      <td>Abyssomicin.FASTA</td>\n",
       "      <td>CC1CC(C)C(=O)C2=C3OC4C(C)CC3(OC2=O)C(C=CC1=O)C4O</td>\n",
       "    </tr>\n",
       "    <tr>\n",
       "      <th>1</th>\n",
       "      <td>Acidobactin_Cluster.fasta</td>\n",
       "      <td>CC1CC(=O)NC(CCCN(O)C=O)C(O)CC(=O)NC(C(C)O)C(=O...</td>\n",
       "    </tr>\n",
       "    <tr>\n",
       "      <th>2</th>\n",
       "      <td>actinonin_BGC0001442.fasta</td>\n",
       "      <td>CCCCCC(CC(=O)NO)C(=O)NC(C(=O)N1CCCC1CO)C(C)C</td>\n",
       "    </tr>\n",
       "    <tr>\n",
       "      <th>3</th>\n",
       "      <td>Actiphenol.fasta</td>\n",
       "      <td>Cc1cc(C)c(O)c(C(=O)CC2CC(=O)NC(=O)C2)c1</td>\n",
       "    </tr>\n",
       "    <tr>\n",
       "      <th>4</th>\n",
       "      <td>Aerobactin_partial.fasta</td>\n",
       "      <td>CC(=O)N(O)CCCCC(NC(=O)CC(O)(CC(=O)NC(CCCCN(O)C...</td>\n",
       "    </tr>\n",
       "    <tr>\n",
       "      <th>...</th>\n",
       "      <td>...</td>\n",
       "      <td>...</td>\n",
       "    </tr>\n",
       "    <tr>\n",
       "      <th>1276</th>\n",
       "      <td>Totopotensamide_A.fasta</td>\n",
       "      <td>CCC(C)C1NC(=O)C(c2cc(O)c(C)c(O)c2Cl)NC(=O)C(NC...</td>\n",
       "    </tr>\n",
       "    <tr>\n",
       "      <th>1277</th>\n",
       "      <td>vibrioferrin_partial.fasta</td>\n",
       "      <td>CC(=O)N(O)CCCCC(NC(=O)CC(O)(CC(=O)NC(CCCCN(O)C...</td>\n",
       "    </tr>\n",
       "    <tr>\n",
       "      <th>1278</th>\n",
       "      <td>warkmycin.fasta</td>\n",
       "      <td>COC1CC(OC2C=C(C)C(OC(C)=O)C3(O)C(OC(C)=O)C(O)C...</td>\n",
       "    </tr>\n",
       "    <tr>\n",
       "      <th>1279</th>\n",
       "      <td>welwitindolinone.fasta</td>\n",
       "      <td>[C-]#[N+]C1=C2C(CC(Cl)C1(C)C=C)C(C)(C)C21C(=O)...</td>\n",
       "    </tr>\n",
       "    <tr>\n",
       "      <th>1280</th>\n",
       "      <td>WS9326A_cluster.fasta</td>\n",
       "      <td>CCCC=Cc1ccccc1C=CC(=O)NC1C(=O)N(C)C(=Cc2ccc(O)...</td>\n",
       "    </tr>\n",
       "  </tbody>\n",
       "</table>\n",
       "<p>1281 rows × 2 columns</p>\n",
       "</div>"
      ],
      "text/plain": [
       "                         Cluster  \\\n",
       "0              Abyssomicin.FASTA   \n",
       "1      Acidobactin_Cluster.fasta   \n",
       "2     actinonin_BGC0001442.fasta   \n",
       "3               Actiphenol.fasta   \n",
       "4       Aerobactin_partial.fasta   \n",
       "...                          ...   \n",
       "1276     Totopotensamide_A.fasta   \n",
       "1277  vibrioferrin_partial.fasta   \n",
       "1278             warkmycin.fasta   \n",
       "1279      welwitindolinone.fasta   \n",
       "1280       WS9326A_cluster.fasta   \n",
       "\n",
       "                                                 SMILES  \n",
       "0      CC1CC(C)C(=O)C2=C3OC4C(C)CC3(OC2=O)C(C=CC1=O)C4O  \n",
       "1     CC1CC(=O)NC(CCCN(O)C=O)C(O)CC(=O)NC(C(C)O)C(=O...  \n",
       "2          CCCCCC(CC(=O)NO)C(=O)NC(C(=O)N1CCCC1CO)C(C)C  \n",
       "3               Cc1cc(C)c(O)c(C(=O)CC2CC(=O)NC(=O)C2)c1  \n",
       "4     CC(=O)N(O)CCCCC(NC(=O)CC(O)(CC(=O)NC(CCCCN(O)C...  \n",
       "...                                                 ...  \n",
       "1276  CCC(C)C1NC(=O)C(c2cc(O)c(C)c(O)c2Cl)NC(=O)C(NC...  \n",
       "1277  CC(=O)N(O)CCCCC(NC(=O)CC(O)(CC(=O)NC(CCCCN(O)C...  \n",
       "1278  COC1CC(OC2C=C(C)C(OC(C)=O)C3(O)C(OC(C)=O)C(O)C...  \n",
       "1279  [C-]#[N+]C1=C2C(CC(Cl)C1(C)C=C)C(C)(C)C21C(=O)...  \n",
       "1280  CCCC=Cc1ccccc1C=CC(=O)NC1C(=O)N(C)C(=Cc2ccc(O)...  \n",
       "\n",
       "[1281 rows x 2 columns]"
      ]
     },
     "execution_count": 17,
     "metadata": {},
     "output_type": "execute_result"
    }
   ],
   "source": [
    "prism"
   ]
  }
 ],
 "metadata": {
  "kernelspec": {
   "display_name": "BGC2Mol",
   "language": "python",
   "name": "python3"
  },
  "language_info": {
   "codemirror_mode": {
    "name": "ipython",
    "version": 3
   },
   "file_extension": ".py",
   "mimetype": "text/x-python",
   "name": "python",
   "nbconvert_exporter": "python",
   "pygments_lexer": "ipython3",
   "version": "3.10.18"
  }
 },
 "nbformat": 4,
 "nbformat_minor": 5
}
