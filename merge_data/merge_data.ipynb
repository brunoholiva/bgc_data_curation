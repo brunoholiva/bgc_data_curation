{
 "cells": [
  {
   "cell_type": "code",
   "execution_count": 1,
   "id": "eb41d19f",
   "metadata": {},
   "outputs": [],
   "source": [
    "import os\n",
    "from Bio import SeqIO\n",
    "import pandas as pd"
   ]
  },
  {
   "cell_type": "code",
   "execution_count": 2,
   "id": "a0b942f2",
   "metadata": {},
   "outputs": [],
   "source": [
    "mibig_fastas_path = 'mibig_data/mibig_fasta/'\n",
    "prism_fastas_path = 'prism4_data/prism_fasta/'"
   ]
  },
  {
   "cell_type": "code",
   "execution_count": 3,
   "id": "fc27c878",
   "metadata": {},
   "outputs": [],
   "source": [
    "for file in os.listdir(mibig_fastas_path):\n",
    "    if file.endswith('.fna'):\n",
    "        with open(os.path.join(mibig_fastas_path, file), 'r') as f:\n",
    "            seqs = list(SeqIO.parse(f, 'fasta'))\n",
    "            if len(seqs) != 1:\n",
    "                print(f\"File {file} has {len(seqs)} sequences, expected 1.\")\n",
    "\n",
    "for file in os.listdir(prism_fastas_path):\n",
    "    if file.endswith('.fna'):\n",
    "        with open(os.path.join(prism_fastas_path, file), 'r') as f:\n",
    "            seqs = list(SeqIO.parse(f, 'fasta'))\n",
    "            if len(seqs) != 1:\n",
    "                print(f\"File {file} has {len(seqs)} sequences, expected 1.\")"
   ]
  },
  {
   "cell_type": "code",
   "execution_count": 4,
   "id": "1d80084a",
   "metadata": {},
   "outputs": [],
   "source": [
    "#create 1 file with all sequences\n",
    "mibig_output_file = 'mibig_combined.fasta'\n",
    "prism_output_file = 'prism_combined.fasta'\n",
    "\n",
    "with open(mibig_output_file, 'w') as outfile:\n",
    "    for file in os.listdir(mibig_fastas_path):\n",
    "        with open(os.path.join(mibig_fastas_path, file), 'r') as f:\n",
    "            for record in SeqIO.parse(f, 'fasta'):\n",
    "                SeqIO.write(record, outfile, 'fasta')\n",
    "\n",
    "with open(prism_output_file, 'w') as outfile:\n",
    "    for file in os.listdir(prism_fastas_path):\n",
    "        with open(os.path.join(prism_fastas_path, file), 'r') as f:\n",
    "            for record in SeqIO.parse(f, 'fasta'):\n",
    "                SeqIO.write(record, outfile, 'fasta')"
   ]
  },
  {
   "cell_type": "code",
   "execution_count": 5,
   "id": "b757da23",
   "metadata": {},
   "outputs": [
    {
     "name": "stdout",
     "output_type": "stream",
     "text": [
      "Total sequences in mibig_combined.fasta: 1673\n",
      "Total sequences in prism_combined.fasta: 1281\n"
     ]
    }
   ],
   "source": [
    "mibig_count = sum(1 for _ in SeqIO.parse(mibig_output_file, 'fasta'))\n",
    "prism_count = sum(1 for _ in SeqIO.parse(prism_output_file, 'fasta'))\n",
    "print(f\"Total sequences in {mibig_output_file}: {mibig_count}\")\n",
    "print(f\"Total sequences in {prism_output_file}: {prism_count}\")\n",
    "#join the two files\n",
    "combined_output_file = 'combined_sequences.fasta'\n",
    "with open(combined_output_file, 'w') as outfile:\n",
    "    for file in [mibig_output_file, prism_output_file]:\n",
    "        with open(file, 'r') as f:\n",
    "            for record in SeqIO.parse(f, 'fasta'):\n",
    "                SeqIO.write(record, outfile, 'fasta')"
   ]
  },
  {
   "cell_type": "code",
   "execution_count": 6,
   "id": "e19209cf",
   "metadata": {},
   "outputs": [
    {
     "name": "stderr",
     "output_type": "stream",
     "text": [
      "[INFO]\u001b[0m 706 duplicated records removed\n"
     ]
    },
    {
     "data": {
      "text/plain": [
       "CompletedProcess(args='seqkit rmdup --by-seq --ignore-case combined_sequences.fasta > combine_sequences_deduplicated.fasta', returncode=0)"
      ]
     },
     "execution_count": 6,
     "metadata": {},
     "output_type": "execute_result"
    }
   ],
   "source": [
    "import subprocess\n",
    "subprocess.run(\"seqkit rmdup --by-seq --ignore-case combined_sequences.fasta > combine_sequences_deduplicated.fasta\", shell=True)"
   ]
  },
  {
   "cell_type": "code",
   "execution_count": 7,
   "id": "5312b540",
   "metadata": {},
   "outputs": [],
   "source": [
    "# get all names for combined sequences deduplicated to a list\n",
    "names = []\n",
    "for record in SeqIO.parse('combine_sequences_deduplicated.fasta', 'fasta'):\n",
    "    names.append(record.id)\n",
    "names = list(names)"
   ]
  },
  {
   "cell_type": "code",
   "execution_count": 8,
   "id": "2f7767a9",
   "metadata": {},
   "outputs": [],
   "source": [
    "mibig_df = pd.read_csv('mibig_data/mibig_active_bgc.csv')\n",
    "prism_df = pd.read_csv('prism4_data/prism_bgc.csv')"
   ]
  },
  {
   "cell_type": "code",
   "execution_count": 9,
   "id": "1ed9dc4b",
   "metadata": {},
   "outputs": [],
   "source": [
    "mibig_df.rename(columns={'first_compound': 'SMILES'}, inplace=True)\n",
    "mibig_df.drop(columns=['completeness', 'quality'], inplace=True)\n",
    "mibig_df['source'] = 'mibig'\n",
    "\n",
    "prism_df.rename(columns={'True SMILES': 'SMILES', 'Cluster': 'accession'}, inplace=True)\n",
    "prism_df['source'] = 'prism'"
   ]
  },
  {
   "cell_type": "code",
   "execution_count": 10,
   "id": "27434a19",
   "metadata": {},
   "outputs": [],
   "source": [
    "df = pd.concat([mibig_df, prism_df], ignore_index=True)"
   ]
  },
  {
   "cell_type": "code",
   "execution_count": 11,
   "id": "ef69e800",
   "metadata": {},
   "outputs": [],
   "source": [
    "#check how many names from the list names are in the dataframe\n",
    "df['name_in_list'] = df['accession'].isin(names)"
   ]
  },
  {
   "cell_type": "code",
   "execution_count": 12,
   "id": "5f194ee8",
   "metadata": {},
   "outputs": [],
   "source": [
    "df['name_in_list'].value_counts()\n",
    "#check the entries that are not in the list\n",
    "df = df[df['name_in_list']]"
   ]
  },
  {
   "cell_type": "code",
   "execution_count": 13,
   "id": "4af2d20e",
   "metadata": {},
   "outputs": [
    {
     "data": {
      "text/html": [
       "<div>\n",
       "<style scoped>\n",
       "    .dataframe tbody tr th:only-of-type {\n",
       "        vertical-align: middle;\n",
       "    }\n",
       "\n",
       "    .dataframe tbody tr th {\n",
       "        vertical-align: top;\n",
       "    }\n",
       "\n",
       "    .dataframe thead th {\n",
       "        text-align: right;\n",
       "    }\n",
       "</style>\n",
       "<table border=\"1\" class=\"dataframe\">\n",
       "  <thead>\n",
       "    <tr style=\"text-align: right;\">\n",
       "      <th></th>\n",
       "      <th>accession</th>\n",
       "      <th>SMILES</th>\n",
       "      <th>source</th>\n",
       "      <th>name_in_list</th>\n",
       "    </tr>\n",
       "  </thead>\n",
       "  <tbody>\n",
       "    <tr>\n",
       "      <th>0</th>\n",
       "      <td>BGC0001464</td>\n",
       "      <td>Brc1[nH]c(Br)c(Br)c1Br</td>\n",
       "      <td>mibig</td>\n",
       "      <td>True</td>\n",
       "    </tr>\n",
       "    <tr>\n",
       "      <th>1</th>\n",
       "      <td>BGC0000892</td>\n",
       "      <td>C#CC#CC#CC#CC=CC=CC(O)CCCCC(=O)O</td>\n",
       "      <td>mibig</td>\n",
       "      <td>True</td>\n",
       "    </tr>\n",
       "    <tr>\n",
       "      <th>2</th>\n",
       "      <td>BGC0002804</td>\n",
       "      <td>C#CC#CC#CC#CC=CCCCCCCCC(=O)O</td>\n",
       "      <td>mibig</td>\n",
       "      <td>True</td>\n",
       "    </tr>\n",
       "    <tr>\n",
       "      <th>3</th>\n",
       "      <td>BGC0001897</td>\n",
       "      <td>C#CC#CC=C=CC1OC1C(O)C=CC1CCC(=O)O1</td>\n",
       "      <td>mibig</td>\n",
       "      <td>True</td>\n",
       "    </tr>\n",
       "    <tr>\n",
       "      <th>4</th>\n",
       "      <td>BGC0001994</td>\n",
       "      <td>C#CC(O)C(N)C(=O)O</td>\n",
       "      <td>mibig</td>\n",
       "      <td>True</td>\n",
       "    </tr>\n",
       "    <tr>\n",
       "      <th>...</th>\n",
       "      <td>...</td>\n",
       "      <td>...</td>\n",
       "      <td>...</td>\n",
       "      <td>...</td>\n",
       "    </tr>\n",
       "    <tr>\n",
       "      <th>2940</th>\n",
       "      <td>streptoseomycin.fasta</td>\n",
       "      <td>COC1CC2C=CC3CC4CC(O)C3C2(O4)C(C)=CC2COC(=O)CCC...</td>\n",
       "      <td>prism</td>\n",
       "      <td>True</td>\n",
       "    </tr>\n",
       "    <tr>\n",
       "      <th>2943</th>\n",
       "      <td>Thanamycin.fasta</td>\n",
       "      <td>CC=C1NC(=O)C(C(C)O)NC(=O)C(Cc2cccc3[nH]ccc23)N...</td>\n",
       "      <td>prism</td>\n",
       "      <td>True</td>\n",
       "    </tr>\n",
       "    <tr>\n",
       "      <th>2944</th>\n",
       "      <td>tiancimycin_BGC0001378.fasta</td>\n",
       "      <td>Cc1cc2c(c3c1C(=O)c1ccc(C(=O)O)c(O)c1C3=O)NC1C#...</td>\n",
       "      <td>prism</td>\n",
       "      <td>True</td>\n",
       "    </tr>\n",
       "    <tr>\n",
       "      <th>2948</th>\n",
       "      <td>titanium_padanamide.fasta</td>\n",
       "      <td>COCC(=O)NC(C(=O)N1NCCCC1C(=O)NC(Cc1ccccc1)C(O)...</td>\n",
       "      <td>prism</td>\n",
       "      <td>True</td>\n",
       "    </tr>\n",
       "    <tr>\n",
       "      <th>2953</th>\n",
       "      <td>WS9326A_cluster.fasta</td>\n",
       "      <td>CCCC=Cc1ccccc1C=CC(=O)NC1C(=O)N(C)C(=Cc2ccc(O)...</td>\n",
       "      <td>prism</td>\n",
       "      <td>True</td>\n",
       "    </tr>\n",
       "  </tbody>\n",
       "</table>\n",
       "<p>2247 rows × 4 columns</p>\n",
       "</div>"
      ],
      "text/plain": [
       "                         accession  \\\n",
       "0                       BGC0001464   \n",
       "1                       BGC0000892   \n",
       "2                       BGC0002804   \n",
       "3                       BGC0001897   \n",
       "4                       BGC0001994   \n",
       "...                            ...   \n",
       "2940         streptoseomycin.fasta   \n",
       "2943              Thanamycin.fasta   \n",
       "2944  tiancimycin_BGC0001378.fasta   \n",
       "2948     titanium_padanamide.fasta   \n",
       "2953         WS9326A_cluster.fasta   \n",
       "\n",
       "                                                 SMILES source  name_in_list  \n",
       "0                                Brc1[nH]c(Br)c(Br)c1Br  mibig          True  \n",
       "1                      C#CC#CC#CC#CC=CC=CC(O)CCCCC(=O)O  mibig          True  \n",
       "2                          C#CC#CC#CC#CC=CCCCCCCCC(=O)O  mibig          True  \n",
       "3                    C#CC#CC=C=CC1OC1C(O)C=CC1CCC(=O)O1  mibig          True  \n",
       "4                                     C#CC(O)C(N)C(=O)O  mibig          True  \n",
       "...                                                 ...    ...           ...  \n",
       "2940  COC1CC2C=CC3CC4CC(O)C3C2(O4)C(C)=CC2COC(=O)CCC...  prism          True  \n",
       "2943  CC=C1NC(=O)C(C(C)O)NC(=O)C(Cc2cccc3[nH]ccc23)N...  prism          True  \n",
       "2944  Cc1cc2c(c3c1C(=O)c1ccc(C(=O)O)c(O)c1C3=O)NC1C#...  prism          True  \n",
       "2948  COCC(=O)NC(C(=O)N1NCCCC1C(=O)NC(Cc1ccccc1)C(O)...  prism          True  \n",
       "2953  CCCC=Cc1ccccc1C=CC(=O)NC1C(=O)N(C)C(=Cc2ccc(O)...  prism          True  \n",
       "\n",
       "[2247 rows x 4 columns]"
      ]
     },
     "execution_count": 13,
     "metadata": {},
     "output_type": "execute_result"
    }
   ],
   "source": [
    "df"
   ]
  },
  {
   "cell_type": "code",
   "execution_count": 14,
   "id": "b5484aeb",
   "metadata": {},
   "outputs": [],
   "source": [
    "bgc_data_cleaned = df.drop(columns=['name_in_list'])\n",
    "bgc_data_cleaned.to_csv('bgc_data_cleaned.csv', index=False)"
   ]
  }
 ],
 "metadata": {
  "kernelspec": {
   "display_name": "BGC2Mol",
   "language": "python",
   "name": "python3"
  },
  "language_info": {
   "codemirror_mode": {
    "name": "ipython",
    "version": 3
   },
   "file_extension": ".py",
   "mimetype": "text/x-python",
   "name": "python",
   "nbconvert_exporter": "python",
   "pygments_lexer": "ipython3",
   "version": "3.10.18"
  }
 },
 "nbformat": 4,
 "nbformat_minor": 5
}
